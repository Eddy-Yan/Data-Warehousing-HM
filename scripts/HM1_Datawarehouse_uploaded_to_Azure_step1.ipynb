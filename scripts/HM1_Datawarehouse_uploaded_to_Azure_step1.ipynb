{
  "nbformat": 4,
  "nbformat_minor": 0,
  "metadata": {
    "colab": {
      "provenance": []
    },
    "kernelspec": {
      "name": "python3",
      "display_name": "Python 3"
    },
    "language_info": {
      "name": "python"
    }
  },
  "cells": [
    {
      "cell_type": "code",
      "source": [
        "#install adapter\n",
        "!pip install azure-storage-blob\n",
        "!pip install boto3"
      ],
      "metadata": {
        "colab": {
          "base_uri": "https://localhost:8080/"
        },
        "id": "-13T-j3ATM_S",
        "outputId": "10a35de3-8628-4695-9c70-1aec59233a3c"
      },
      "execution_count": 14,
      "outputs": [
        {
          "output_type": "stream",
          "name": "stdout",
          "text": [
            "Collecting azure-storage-blob\n",
            "  Downloading azure_storage_blob-12.19.1-py3-none-any.whl (394 kB)\n",
            "\u001b[2K     \u001b[90m━━━━━━━━━━━━━━━━━━━━━━━━━━━━━━━━━━━━━━━━\u001b[0m \u001b[32m394.5/394.5 kB\u001b[0m \u001b[31m6.1 MB/s\u001b[0m eta \u001b[36m0:00:00\u001b[0m\n",
            "\u001b[?25hCollecting azure-core<2.0.0,>=1.28.0 (from azure-storage-blob)\n",
            "  Downloading azure_core-1.30.1-py3-none-any.whl (193 kB)\n",
            "\u001b[2K     \u001b[90m━━━━━━━━━━━━━━━━━━━━━━━━━━━━━━━━━━━━━━━━\u001b[0m \u001b[32m193.4/193.4 kB\u001b[0m \u001b[31m11.0 MB/s\u001b[0m eta \u001b[36m0:00:00\u001b[0m\n",
            "\u001b[?25hRequirement already satisfied: cryptography>=2.1.4 in /usr/local/lib/python3.10/dist-packages (from azure-storage-blob) (42.0.5)\n",
            "Requirement already satisfied: typing-extensions>=4.3.0 in /usr/local/lib/python3.10/dist-packages (from azure-storage-blob) (4.11.0)\n",
            "Collecting isodate>=0.6.1 (from azure-storage-blob)\n",
            "  Downloading isodate-0.6.1-py2.py3-none-any.whl (41 kB)\n",
            "\u001b[2K     \u001b[90m━━━━━━━━━━━━━━━━━━━━━━━━━━━━━━━━━━━━━━━━\u001b[0m \u001b[32m41.7/41.7 kB\u001b[0m \u001b[31m3.1 MB/s\u001b[0m eta \u001b[36m0:00:00\u001b[0m\n",
            "\u001b[?25hRequirement already satisfied: requests>=2.21.0 in /usr/local/lib/python3.10/dist-packages (from azure-core<2.0.0,>=1.28.0->azure-storage-blob) (2.31.0)\n",
            "Requirement already satisfied: six>=1.11.0 in /usr/local/lib/python3.10/dist-packages (from azure-core<2.0.0,>=1.28.0->azure-storage-blob) (1.16.0)\n",
            "Requirement already satisfied: cffi>=1.12 in /usr/local/lib/python3.10/dist-packages (from cryptography>=2.1.4->azure-storage-blob) (1.16.0)\n",
            "Requirement already satisfied: pycparser in /usr/local/lib/python3.10/dist-packages (from cffi>=1.12->cryptography>=2.1.4->azure-storage-blob) (2.22)\n",
            "Requirement already satisfied: charset-normalizer<4,>=2 in /usr/local/lib/python3.10/dist-packages (from requests>=2.21.0->azure-core<2.0.0,>=1.28.0->azure-storage-blob) (3.3.2)\n",
            "Requirement already satisfied: idna<4,>=2.5 in /usr/local/lib/python3.10/dist-packages (from requests>=2.21.0->azure-core<2.0.0,>=1.28.0->azure-storage-blob) (3.7)\n",
            "Requirement already satisfied: urllib3<3,>=1.21.1 in /usr/local/lib/python3.10/dist-packages (from requests>=2.21.0->azure-core<2.0.0,>=1.28.0->azure-storage-blob) (2.0.7)\n",
            "Requirement already satisfied: certifi>=2017.4.17 in /usr/local/lib/python3.10/dist-packages (from requests>=2.21.0->azure-core<2.0.0,>=1.28.0->azure-storage-blob) (2024.2.2)\n",
            "Installing collected packages: isodate, azure-core, azure-storage-blob\n",
            "Successfully installed azure-core-1.30.1 azure-storage-blob-12.19.1 isodate-0.6.1\n",
            "Collecting boto3\n",
            "  Downloading boto3-1.34.88-py3-none-any.whl (139 kB)\n",
            "\u001b[2K     \u001b[90m━━━━━━━━━━━━━━━━━━━━━━━━━━━━━━━━━━━━━━━━\u001b[0m \u001b[32m139.3/139.3 kB\u001b[0m \u001b[31m3.0 MB/s\u001b[0m eta \u001b[36m0:00:00\u001b[0m\n",
            "\u001b[?25hCollecting botocore<1.35.0,>=1.34.88 (from boto3)\n",
            "  Downloading botocore-1.34.88-py3-none-any.whl (12.2 MB)\n",
            "\u001b[2K     \u001b[90m━━━━━━━━━━━━━━━━━━━━━━━━━━━━━━━━━━━━━━━━\u001b[0m \u001b[32m12.2/12.2 MB\u001b[0m \u001b[31m24.5 MB/s\u001b[0m eta \u001b[36m0:00:00\u001b[0m\n",
            "\u001b[?25hCollecting jmespath<2.0.0,>=0.7.1 (from boto3)\n",
            "  Downloading jmespath-1.0.1-py3-none-any.whl (20 kB)\n",
            "Collecting s3transfer<0.11.0,>=0.10.0 (from boto3)\n",
            "  Downloading s3transfer-0.10.1-py3-none-any.whl (82 kB)\n",
            "\u001b[2K     \u001b[90m━━━━━━━━━━━━━━━━━━━━━━━━━━━━━━━━━━━━━━━━\u001b[0m \u001b[32m82.2/82.2 kB\u001b[0m \u001b[31m8.0 MB/s\u001b[0m eta \u001b[36m0:00:00\u001b[0m\n",
            "\u001b[?25hRequirement already satisfied: python-dateutil<3.0.0,>=2.1 in /usr/local/lib/python3.10/dist-packages (from botocore<1.35.0,>=1.34.88->boto3) (2.8.2)\n",
            "Requirement already satisfied: urllib3!=2.2.0,<3,>=1.25.4 in /usr/local/lib/python3.10/dist-packages (from botocore<1.35.0,>=1.34.88->boto3) (2.0.7)\n",
            "Requirement already satisfied: six>=1.5 in /usr/local/lib/python3.10/dist-packages (from python-dateutil<3.0.0,>=2.1->botocore<1.35.0,>=1.34.88->boto3) (1.16.0)\n",
            "Installing collected packages: jmespath, botocore, s3transfer, boto3\n",
            "Successfully installed boto3-1.34.88 botocore-1.34.88 jmespath-1.0.1 s3transfer-0.10.1\n"
          ]
        }
      ]
    },
    {
      "cell_type": "code",
      "execution_count": 15,
      "metadata": {
        "id": "T6jE5TrsP9Qc"
      },
      "outputs": [],
      "source": [
        "import json\n",
        "import boto3\n",
        "from azure.storage.blob import BlobServiceClient, BlobClient, ContainerClient\n",
        "from io import StringIO\n",
        "import pandas as pd\n",
        "import numpy as np\n",
        "import requests"
      ]
    },
    {
      "cell_type": "code",
      "source": [
        "# Function\n",
        "\n",
        "# Azure Functions\n",
        "def azure_upload_blob(connect_str, container_name, blob_name, data):\n",
        "    blob_service_client = BlobServiceClient.from_connection_string(connect_str)\n",
        "    blob_client = blob_service_client.get_blob_client(container=container_name, blob=blob_name)\n",
        "    blob_client.upload_blob(data, overwrite=True)\n",
        "    print(f\"Uploaded to Azure Blob: {blob_name}\")\n",
        "\n",
        "def azure_download_blob(connect_str, container_name, blob_name):\n",
        "    blob_service_client = BlobServiceClient.from_connection_string(connect_str)\n",
        "    blob_client = blob_service_client.get_blob_client(container=container_name, blob=blob_name)\n",
        "    download_stream = blob_client.download_blob()\n",
        "    return download_stream.readall()"
      ],
      "metadata": {
        "id": "h4QK7SruTX8D"
      },
      "execution_count": 16,
      "outputs": []
    },
    {
      "cell_type": "code",
      "source": [
        "# Now all_data contains all rows from the API\n",
        "import requests\n",
        "\n",
        "url = 'https://data.wa.gov/resource/f6w7-q2d2.json'\n",
        "offset = 0\n",
        "limit = 1000  # Maximum number of rows per request\n",
        "\n",
        "all_data = []\n",
        "\n",
        "while True:\n",
        "    params = {'$offset': offset, '$limit': limit}\n",
        "    response = requests.get(url, params=params)\n",
        "\n",
        "    if response.status_code == 200:\n",
        "        data = response.json()\n",
        "        all_data.extend(data)\n",
        "\n",
        "        if len(data) < limit:\n",
        "            break\n",
        "\n",
        "        offset += limit\n",
        "    else:\n",
        "        print(\"Error:\", response.status_code)\n",
        "        break\n"
      ],
      "metadata": {
        "id": "wlMNBtTeP_um"
      },
      "execution_count": 17,
      "outputs": []
    },
    {
      "cell_type": "code",
      "source": [
        "df = pd.DataFrame(all_data)"
      ],
      "metadata": {
        "id": "0ZwCgfF-P_wq"
      },
      "execution_count": 18,
      "outputs": []
    },
    {
      "cell_type": "code",
      "source": [
        "print(df.columns)"
      ],
      "metadata": {
        "colab": {
          "base_uri": "https://localhost:8080/"
        },
        "id": "PmnX592oT3pb",
        "outputId": "39dcf421-c5ca-456e-8716-e85bcd1a574d"
      },
      "execution_count": 19,
      "outputs": [
        {
          "output_type": "stream",
          "name": "stdout",
          "text": [
            "Index(['vin_1_10', 'county', 'city', 'state', 'zip_code', 'model_year', 'make',\n",
            "       'model', 'ev_type', 'cafv_type', 'electric_range', 'base_msrp',\n",
            "       'legislative_district', 'dol_vehicle_id', 'geocoded_column',\n",
            "       'electric_utility', '_2020_census_tract', ':@computed_region_x4ys_rtnd',\n",
            "       ':@computed_region_fny7_vc3j', ':@computed_region_8ddd_yn5v'],\n",
            "      dtype='object')\n"
          ]
        }
      ]
    },
    {
      "cell_type": "code",
      "source": [
        "# check null data\n",
        "df.info()"
      ],
      "metadata": {
        "colab": {
          "base_uri": "https://localhost:8080/"
        },
        "id": "AT0LxRzfP_yv",
        "outputId": "a5fda638-652e-4f46-930d-da13072f2ebb"
      },
      "execution_count": 20,
      "outputs": [
        {
          "output_type": "stream",
          "name": "stdout",
          "text": [
            "<class 'pandas.core.frame.DataFrame'>\n",
            "RangeIndex: 181458 entries, 0 to 181457\n",
            "Data columns (total 20 columns):\n",
            " #   Column                       Non-Null Count   Dtype \n",
            "---  ------                       --------------   ----- \n",
            " 0   vin_1_10                     181458 non-null  object\n",
            " 1   county                       181455 non-null  object\n",
            " 2   city                         181455 non-null  object\n",
            " 3   state                        181458 non-null  object\n",
            " 4   zip_code                     181455 non-null  object\n",
            " 5   model_year                   181458 non-null  object\n",
            " 6   make                         181458 non-null  object\n",
            " 7   model                        181458 non-null  object\n",
            " 8   ev_type                      181458 non-null  object\n",
            " 9   cafv_type                    181458 non-null  object\n",
            " 10  electric_range               181458 non-null  object\n",
            " 11  base_msrp                    181458 non-null  object\n",
            " 12  legislative_district         181060 non-null  object\n",
            " 13  dol_vehicle_id               181458 non-null  object\n",
            " 14  geocoded_column              181450 non-null  object\n",
            " 15  electric_utility             181455 non-null  object\n",
            " 16  _2020_census_tract           181455 non-null  object\n",
            " 17  :@computed_region_x4ys_rtnd  180768 non-null  object\n",
            " 18  :@computed_region_fny7_vc3j  181055 non-null  object\n",
            " 19  :@computed_region_8ddd_yn5v  181055 non-null  object\n",
            "dtypes: object(20)\n",
            "memory usage: 27.7+ MB\n"
          ]
        }
      ]
    },
    {
      "cell_type": "code",
      "source": [
        "# remove rows with missing data\n",
        "cleaned_df = df.dropna()"
      ],
      "metadata": {
        "id": "l0NiyPoxSV88"
      },
      "execution_count": 21,
      "outputs": []
    },
    {
      "cell_type": "code",
      "source": [
        "cleaned_df.info()"
      ],
      "metadata": {
        "colab": {
          "base_uri": "https://localhost:8080/"
        },
        "id": "ZpVl2G1MSV_C",
        "outputId": "9bfd4136-f0d9-4be7-f274-cd7087660b77"
      },
      "execution_count": 22,
      "outputs": [
        {
          "output_type": "stream",
          "name": "stdout",
          "text": [
            "<class 'pandas.core.frame.DataFrame'>\n",
            "Index: 180373 entries, 0 to 181457\n",
            "Data columns (total 20 columns):\n",
            " #   Column                       Non-Null Count   Dtype \n",
            "---  ------                       --------------   ----- \n",
            " 0   vin_1_10                     180373 non-null  object\n",
            " 1   county                       180373 non-null  object\n",
            " 2   city                         180373 non-null  object\n",
            " 3   state                        180373 non-null  object\n",
            " 4   zip_code                     180373 non-null  object\n",
            " 5   model_year                   180373 non-null  object\n",
            " 6   make                         180373 non-null  object\n",
            " 7   model                        180373 non-null  object\n",
            " 8   ev_type                      180373 non-null  object\n",
            " 9   cafv_type                    180373 non-null  object\n",
            " 10  electric_range               180373 non-null  object\n",
            " 11  base_msrp                    180373 non-null  object\n",
            " 12  legislative_district         180373 non-null  object\n",
            " 13  dol_vehicle_id               180373 non-null  object\n",
            " 14  geocoded_column              180373 non-null  object\n",
            " 15  electric_utility             180373 non-null  object\n",
            " 16  _2020_census_tract           180373 non-null  object\n",
            " 17  :@computed_region_x4ys_rtnd  180373 non-null  object\n",
            " 18  :@computed_region_fny7_vc3j  180373 non-null  object\n",
            " 19  :@computed_region_8ddd_yn5v  180373 non-null  object\n",
            "dtypes: object(20)\n",
            "memory usage: 28.9+ MB\n"
          ]
        }
      ]
    },
    {
      "cell_type": "code",
      "source": [
        "#put into cloud storatge (create and upload)"
      ],
      "metadata": {
        "id": "ZiQrxMsoSWBH"
      },
      "execution_count": null,
      "outputs": []
    },
    {
      "cell_type": "code",
      "source": [
        "# Specify the path to your JASON configuration file\n",
        "config_file_path='config.json'\n",
        "\n",
        "#Load the JSON configuration file\n",
        "with open(config_file_path, 'r') as config_file:\n",
        "    config = json.load(config_file)\n",
        "\n",
        "# Print the configuration\n",
        "# Connection_STRING = config[\"connectionString\"]\n",
        "\n",
        "\n",
        "CONNECTION_STRING_AZURE_STORAGE = config[\"connectionString\"]\n",
        "CONTAINER_AZURE=\"electricalvehicle\"\n",
        "blob_name = \"electricalvehicle.csv\"\n",
        "# Conbert DataFrame to CSV\n",
        "output=StringIO()\n",
        "cleaned_df.to_csv(output, index=False)\n",
        "data = output.getvalue()\n",
        "output.close()\n",
        "\n",
        "# Create the BlobServiceClient object\n",
        "blob_service_client = BlobServiceClient.from_connection_string(CONNECTION_STRING_AZURE_STORAGE)\n",
        "\n",
        "# Get a blob client using the container name and blob name\n",
        "blob_client = blob_service_client.get_blob_client(container=CONTAINER_AZURE, blob=blob_name)\n",
        "\n",
        "# Upload the CSV data\n",
        "blob_client.upload_blob(data, overwrite=True)\n",
        "\n",
        "print(f\"Uploaded {blob_name} to Azure Blob Storage in container {CONTAINER_AZURE}.\")"
      ],
      "metadata": {
        "colab": {
          "base_uri": "https://localhost:8080/"
        },
        "id": "pWAtN7p9SWDM",
        "outputId": "9893ea84-7bc2-4a22-f3e9-d423a764d0d2"
      },
      "execution_count": 26,
      "outputs": [
        {
          "output_type": "stream",
          "name": "stdout",
          "text": [
            "Uploaded electricalvehicle.csv to Azure Blob Storage in container electricalvehicle.\n"
          ]
        }
      ]
    }
  ]
}